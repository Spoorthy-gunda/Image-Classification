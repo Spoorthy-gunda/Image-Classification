{
  "nbformat": 4,
  "nbformat_minor": 0,
  "metadata": {
    "colab": {
      "name": "aircanada_stock.ipynb",
      "provenance": [],
      "authorship_tag": "ABX9TyNVDtq1+NOC80ZMm+jsnyXZ",
      "include_colab_link": true
    },
    "kernelspec": {
      "name": "python3",
      "display_name": "Python 3"
    },
    "language_info": {
      "name": "python"
    },
    "accelerator": "GPU"
  },
  "cells": [
    {
      "cell_type": "markdown",
      "metadata": {
        "id": "view-in-github",
        "colab_type": "text"
      },
      "source": [
        "<a href=\"https://colab.research.google.com/github/Spoorthy-gunda/Image-Classification/blob/main/aircanada_stock.ipynb\" target=\"_parent\"><img src=\"https://colab.research.google.com/assets/colab-badge.svg\" alt=\"Open In Colab\"/></a>"
      ]
    },
    {
      "cell_type": "code",
      "metadata": {
        "colab": {
          "base_uri": "https://localhost:8080/",
          "height": 282
        },
        "id": "BJh9E4S6n5pc",
        "outputId": "993e734b-3cfc-4169-9a32-a27ef44f64d8"
      },
      "source": [
        "import keras\n",
        "import numpy as np\n",
        "from keras.datasets import cifar10\n",
        "from keras.preprocessing.image import ImageDataGenerator\n",
        "from keras.models import Sequential\n",
        "from keras.layers import Dense, Dropout, Activation, Flatten, LSTM\n",
        "from keras.initializers import RandomNormal  \n",
        "from keras import optimizers\n",
        "from keras.callbacks import LearningRateScheduler, TensorBoard\n",
        "from keras.layers.normalization import BatchNormalization\n",
        "import matplotlib.pyplot as plt\n",
        "import csv\n",
        "import pandas as pd\n",
        "\n",
        "\n",
        "\n",
        "data=pd.read_csv(\"/content/AC.TO_from2010.csv\")\n",
        "data.describe()\n",
        "\n"
      ],
      "execution_count": null,
      "outputs": [
        {
          "output_type": "execute_result",
          "data": {
            "text/html": [
              "<div>\n",
              "<style scoped>\n",
              "    .dataframe tbody tr th:only-of-type {\n",
              "        vertical-align: middle;\n",
              "    }\n",
              "\n",
              "    .dataframe tbody tr th {\n",
              "        vertical-align: top;\n",
              "    }\n",
              "\n",
              "    .dataframe thead th {\n",
              "        text-align: right;\n",
              "    }\n",
              "</style>\n",
              "<table border=\"1\" class=\"dataframe\">\n",
              "  <thead>\n",
              "    <tr style=\"text-align: right;\">\n",
              "      <th></th>\n",
              "      <th>Open</th>\n",
              "      <th>High</th>\n",
              "      <th>Low</th>\n",
              "      <th>Close</th>\n",
              "      <th>Adj Close</th>\n",
              "      <th>Volume</th>\n",
              "    </tr>\n",
              "  </thead>\n",
              "  <tbody>\n",
              "    <tr>\n",
              "      <th>count</th>\n",
              "      <td>2758.000000</td>\n",
              "      <td>2758.000000</td>\n",
              "      <td>2758.000000</td>\n",
              "      <td>2758.000000</td>\n",
              "      <td>2758.000000</td>\n",
              "      <td>2.758000e+03</td>\n",
              "    </tr>\n",
              "    <tr>\n",
              "      <th>mean</th>\n",
              "      <td>14.003894</td>\n",
              "      <td>14.236806</td>\n",
              "      <td>13.762893</td>\n",
              "      <td>13.999126</td>\n",
              "      <td>13.999126</td>\n",
              "      <td>2.040237e+06</td>\n",
              "    </tr>\n",
              "    <tr>\n",
              "      <th>std</th>\n",
              "      <td>12.384356</td>\n",
              "      <td>12.570921</td>\n",
              "      <td>12.217991</td>\n",
              "      <td>12.396405</td>\n",
              "      <td>12.396405</td>\n",
              "      <td>2.181328e+06</td>\n",
              "    </tr>\n",
              "    <tr>\n",
              "      <th>min</th>\n",
              "      <td>0.800000</td>\n",
              "      <td>0.830000</td>\n",
              "      <td>0.780000</td>\n",
              "      <td>0.820000</td>\n",
              "      <td>0.820000</td>\n",
              "      <td>0.000000e+00</td>\n",
              "    </tr>\n",
              "    <tr>\n",
              "      <th>25%</th>\n",
              "      <td>2.782500</td>\n",
              "      <td>2.832500</td>\n",
              "      <td>2.730000</td>\n",
              "      <td>2.800000</td>\n",
              "      <td>2.800000</td>\n",
              "      <td>8.309250e+05</td>\n",
              "    </tr>\n",
              "    <tr>\n",
              "      <th>50%</th>\n",
              "      <td>10.905000</td>\n",
              "      <td>11.095000</td>\n",
              "      <td>10.650000</td>\n",
              "      <td>10.890000</td>\n",
              "      <td>10.890000</td>\n",
              "      <td>1.320350e+06</td>\n",
              "    </tr>\n",
              "    <tr>\n",
              "      <th>75%</th>\n",
              "      <td>22.920000</td>\n",
              "      <td>23.240000</td>\n",
              "      <td>22.497500</td>\n",
              "      <td>22.905000</td>\n",
              "      <td>22.905000</td>\n",
              "      <td>2.418275e+06</td>\n",
              "    </tr>\n",
              "    <tr>\n",
              "      <th>max</th>\n",
              "      <td>52.029999</td>\n",
              "      <td>52.709999</td>\n",
              "      <td>51.560001</td>\n",
              "      <td>52.090000</td>\n",
              "      <td>52.090000</td>\n",
              "      <td>2.715840e+07</td>\n",
              "    </tr>\n",
              "  </tbody>\n",
              "</table>\n",
              "</div>"
            ],
            "text/plain": [
              "              Open         High  ...    Adj Close        Volume\n",
              "count  2758.000000  2758.000000  ...  2758.000000  2.758000e+03\n",
              "mean     14.003894    14.236806  ...    13.999126  2.040237e+06\n",
              "std      12.384356    12.570921  ...    12.396405  2.181328e+06\n",
              "min       0.800000     0.830000  ...     0.820000  0.000000e+00\n",
              "25%       2.782500     2.832500  ...     2.800000  8.309250e+05\n",
              "50%      10.905000    11.095000  ...    10.890000  1.320350e+06\n",
              "75%      22.920000    23.240000  ...    22.905000  2.418275e+06\n",
              "max      52.029999    52.709999  ...    52.090000  2.715840e+07\n",
              "\n",
              "[8 rows x 6 columns]"
            ]
          },
          "metadata": {
            "tags": []
          },
          "execution_count": 1
        }
      ]
    },
    {
      "cell_type": "code",
      "metadata": {
        "colab": {
          "base_uri": "https://localhost:8080/",
          "height": 194
        },
        "id": "5lr-cj5XpIuf",
        "outputId": "fc99ca8e-b6f2-4b5d-eb72-32fe3d218132"
      },
      "source": [
        "data.head()"
      ],
      "execution_count": null,
      "outputs": [
        {
          "output_type": "execute_result",
          "data": {
            "text/html": [
              "<div>\n",
              "<style scoped>\n",
              "    .dataframe tbody tr th:only-of-type {\n",
              "        vertical-align: middle;\n",
              "    }\n",
              "\n",
              "    .dataframe tbody tr th {\n",
              "        vertical-align: top;\n",
              "    }\n",
              "\n",
              "    .dataframe thead th {\n",
              "        text-align: right;\n",
              "    }\n",
              "</style>\n",
              "<table border=\"1\" class=\"dataframe\">\n",
              "  <thead>\n",
              "    <tr style=\"text-align: right;\">\n",
              "      <th></th>\n",
              "      <th>Date</th>\n",
              "      <th>Open</th>\n",
              "      <th>High</th>\n",
              "      <th>Low</th>\n",
              "      <th>Close</th>\n",
              "      <th>Adj Close</th>\n",
              "      <th>Volume</th>\n",
              "    </tr>\n",
              "  </thead>\n",
              "  <tbody>\n",
              "    <tr>\n",
              "      <th>0</th>\n",
              "      <td>2010-04-28</td>\n",
              "      <td>2.42</td>\n",
              "      <td>2.43</td>\n",
              "      <td>2.35</td>\n",
              "      <td>2.35</td>\n",
              "      <td>2.35</td>\n",
              "      <td>347400.0</td>\n",
              "    </tr>\n",
              "    <tr>\n",
              "      <th>1</th>\n",
              "      <td>2010-04-29</td>\n",
              "      <td>2.34</td>\n",
              "      <td>2.35</td>\n",
              "      <td>2.25</td>\n",
              "      <td>2.25</td>\n",
              "      <td>2.25</td>\n",
              "      <td>1156100.0</td>\n",
              "    </tr>\n",
              "    <tr>\n",
              "      <th>2</th>\n",
              "      <td>2010-04-30</td>\n",
              "      <td>2.25</td>\n",
              "      <td>2.31</td>\n",
              "      <td>2.22</td>\n",
              "      <td>2.23</td>\n",
              "      <td>2.23</td>\n",
              "      <td>743000.0</td>\n",
              "    </tr>\n",
              "    <tr>\n",
              "      <th>3</th>\n",
              "      <td>2010-05-03</td>\n",
              "      <td>2.21</td>\n",
              "      <td>2.28</td>\n",
              "      <td>2.21</td>\n",
              "      <td>2.25</td>\n",
              "      <td>2.25</td>\n",
              "      <td>621700.0</td>\n",
              "    </tr>\n",
              "    <tr>\n",
              "      <th>4</th>\n",
              "      <td>2010-05-04</td>\n",
              "      <td>2.24</td>\n",
              "      <td>2.24</td>\n",
              "      <td>2.09</td>\n",
              "      <td>2.17</td>\n",
              "      <td>2.17</td>\n",
              "      <td>1030500.0</td>\n",
              "    </tr>\n",
              "  </tbody>\n",
              "</table>\n",
              "</div>"
            ],
            "text/plain": [
              "         Date  Open  High   Low  Close  Adj Close     Volume\n",
              "0  2010-04-28  2.42  2.43  2.35   2.35       2.35   347400.0\n",
              "1  2010-04-29  2.34  2.35  2.25   2.25       2.25  1156100.0\n",
              "2  2010-04-30  2.25  2.31  2.22   2.23       2.23   743000.0\n",
              "3  2010-05-03  2.21  2.28  2.21   2.25       2.25   621700.0\n",
              "4  2010-05-04  2.24  2.24  2.09   2.17       2.17  1030500.0"
            ]
          },
          "metadata": {
            "tags": []
          },
          "execution_count": 2
        }
      ]
    },
    {
      "cell_type": "code",
      "metadata": {
        "colab": {
          "base_uri": "https://localhost:8080/",
          "height": 194
        },
        "id": "AELgT9GHpPaW",
        "outputId": "e5352447-88c0-4e89-b7d4-7f5f4a05a11e"
      },
      "source": [
        "data.tail()"
      ],
      "execution_count": null,
      "outputs": [
        {
          "output_type": "execute_result",
          "data": {
            "text/html": [
              "<div>\n",
              "<style scoped>\n",
              "    .dataframe tbody tr th:only-of-type {\n",
              "        vertical-align: middle;\n",
              "    }\n",
              "\n",
              "    .dataframe tbody tr th {\n",
              "        vertical-align: top;\n",
              "    }\n",
              "\n",
              "    .dataframe thead th {\n",
              "        text-align: right;\n",
              "    }\n",
              "</style>\n",
              "<table border=\"1\" class=\"dataframe\">\n",
              "  <thead>\n",
              "    <tr style=\"text-align: right;\">\n",
              "      <th></th>\n",
              "      <th>Date</th>\n",
              "      <th>Open</th>\n",
              "      <th>High</th>\n",
              "      <th>Low</th>\n",
              "      <th>Close</th>\n",
              "      <th>Adj Close</th>\n",
              "      <th>Volume</th>\n",
              "    </tr>\n",
              "  </thead>\n",
              "  <tbody>\n",
              "    <tr>\n",
              "      <th>2755</th>\n",
              "      <td>2021-04-21</td>\n",
              "      <td>23.180000</td>\n",
              "      <td>23.850000</td>\n",
              "      <td>22.700001</td>\n",
              "      <td>23.639999</td>\n",
              "      <td>23.639999</td>\n",
              "      <td>3685400.0</td>\n",
              "    </tr>\n",
              "    <tr>\n",
              "      <th>2756</th>\n",
              "      <td>2021-04-22</td>\n",
              "      <td>23.760000</td>\n",
              "      <td>24.850000</td>\n",
              "      <td>23.650000</td>\n",
              "      <td>24.690001</td>\n",
              "      <td>24.690001</td>\n",
              "      <td>4601400.0</td>\n",
              "    </tr>\n",
              "    <tr>\n",
              "      <th>2757</th>\n",
              "      <td>2021-04-23</td>\n",
              "      <td>24.770000</td>\n",
              "      <td>25.190001</td>\n",
              "      <td>24.600000</td>\n",
              "      <td>25.070000</td>\n",
              "      <td>25.070000</td>\n",
              "      <td>2922300.0</td>\n",
              "    </tr>\n",
              "    <tr>\n",
              "      <th>2758</th>\n",
              "      <td>2021-04-26</td>\n",
              "      <td>25.320000</td>\n",
              "      <td>25.879999</td>\n",
              "      <td>25.190001</td>\n",
              "      <td>25.760000</td>\n",
              "      <td>25.760000</td>\n",
              "      <td>2969200.0</td>\n",
              "    </tr>\n",
              "    <tr>\n",
              "      <th>2759</th>\n",
              "      <td>2021-04-27</td>\n",
              "      <td>25.870001</td>\n",
              "      <td>25.870001</td>\n",
              "      <td>25.430000</td>\n",
              "      <td>25.740000</td>\n",
              "      <td>25.740000</td>\n",
              "      <td>2501400.0</td>\n",
              "    </tr>\n",
              "  </tbody>\n",
              "</table>\n",
              "</div>"
            ],
            "text/plain": [
              "            Date       Open       High  ...      Close  Adj Close     Volume\n",
              "2755  2021-04-21  23.180000  23.850000  ...  23.639999  23.639999  3685400.0\n",
              "2756  2021-04-22  23.760000  24.850000  ...  24.690001  24.690001  4601400.0\n",
              "2757  2021-04-23  24.770000  25.190001  ...  25.070000  25.070000  2922300.0\n",
              "2758  2021-04-26  25.320000  25.879999  ...  25.760000  25.760000  2969200.0\n",
              "2759  2021-04-27  25.870001  25.870001  ...  25.740000  25.740000  2501400.0\n",
              "\n",
              "[5 rows x 7 columns]"
            ]
          },
          "metadata": {
            "tags": []
          },
          "execution_count": 3
        }
      ]
    },
    {
      "cell_type": "code",
      "metadata": {
        "colab": {
          "base_uri": "https://localhost:8080/"
        },
        "id": "fv61_Swzr0Fw",
        "outputId": "e09f9b3f-88fa-4648-aa47-4f01b96b5cf4"
      },
      "source": [
        "data.info()"
      ],
      "execution_count": null,
      "outputs": [
        {
          "output_type": "stream",
          "text": [
            "<class 'pandas.core.frame.DataFrame'>\n",
            "RangeIndex: 2760 entries, 0 to 2759\n",
            "Data columns (total 7 columns):\n",
            " #   Column     Non-Null Count  Dtype  \n",
            "---  ------     --------------  -----  \n",
            " 0   Date       2760 non-null   object \n",
            " 1   Open       2758 non-null   float64\n",
            " 2   High       2758 non-null   float64\n",
            " 3   Low        2758 non-null   float64\n",
            " 4   Close      2758 non-null   float64\n",
            " 5   Adj Close  2758 non-null   float64\n",
            " 6   Volume     2758 non-null   float64\n",
            "dtypes: float64(6), object(1)\n",
            "memory usage: 151.1+ KB\n"
          ],
          "name": "stdout"
        }
      ]
    },
    {
      "cell_type": "code",
      "metadata": {
        "colab": {
          "base_uri": "https://localhost:8080/"
        },
        "id": "Lz0d6qExry1b",
        "outputId": "c1d8847a-3ffb-4e35-f40c-7d29d90f89f8"
      },
      "source": [
        "data.isnull().sum()"
      ],
      "execution_count": null,
      "outputs": [
        {
          "output_type": "execute_result",
          "data": {
            "text/plain": [
              "Date         0\n",
              "Open         2\n",
              "High         2\n",
              "Low          2\n",
              "Close        2\n",
              "Adj Close    2\n",
              "Volume       2\n",
              "dtype: int64"
            ]
          },
          "metadata": {
            "tags": []
          },
          "execution_count": 5
        }
      ]
    },
    {
      "cell_type": "markdown",
      "metadata": {
        "id": "2gaa5asIyNWA"
      },
      "source": [
        "Since the number of null entries is same for every column, it is possible that the the null entries belong to the same rows. We can check this by the following code."
      ]
    },
    {
      "cell_type": "code",
      "metadata": {
        "colab": {
          "base_uri": "https://localhost:8080/"
        },
        "id": "fdXsg902vpyT",
        "outputId": "fb8be994-f9e1-4cec-eb1e-445f15744517"
      },
      "source": [
        "data=data.dropna(how='any')\n",
        "data.info()"
      ],
      "execution_count": null,
      "outputs": [
        {
          "output_type": "stream",
          "text": [
            "<class 'pandas.core.frame.DataFrame'>\n",
            "Int64Index: 2758 entries, 0 to 2759\n",
            "Data columns (total 7 columns):\n",
            " #   Column     Non-Null Count  Dtype  \n",
            "---  ------     --------------  -----  \n",
            " 0   Date       2758 non-null   object \n",
            " 1   Open       2758 non-null   float64\n",
            " 2   High       2758 non-null   float64\n",
            " 3   Low        2758 non-null   float64\n",
            " 4   Close      2758 non-null   float64\n",
            " 5   Adj Close  2758 non-null   float64\n",
            " 6   Volume     2758 non-null   float64\n",
            "dtypes: float64(6), object(1)\n",
            "memory usage: 172.4+ KB\n"
          ],
          "name": "stdout"
        }
      ]
    },
    {
      "cell_type": "markdown",
      "metadata": {
        "id": "o8RKO_mpAT9P"
      },
      "source": [
        "The above code deletes the rows which has at least on null entry. After deleting such rowns we can observe that null values are present only on two rowshence we can safely delete those two rows."
      ]
    },
    {
      "cell_type": "code",
      "metadata": {
        "colab": {
          "base_uri": "https://localhost:8080/",
          "height": 223
        },
        "id": "giD4ptsPpI7M",
        "outputId": "c9fdfd5a-1c48-43a2-806b-66d7533a4390"
      },
      "source": [
        "data.corr()"
      ],
      "execution_count": null,
      "outputs": [
        {
          "output_type": "execute_result",
          "data": {
            "text/html": [
              "<div>\n",
              "<style scoped>\n",
              "    .dataframe tbody tr th:only-of-type {\n",
              "        vertical-align: middle;\n",
              "    }\n",
              "\n",
              "    .dataframe tbody tr th {\n",
              "        vertical-align: top;\n",
              "    }\n",
              "\n",
              "    .dataframe thead th {\n",
              "        text-align: right;\n",
              "    }\n",
              "</style>\n",
              "<table border=\"1\" class=\"dataframe\">\n",
              "  <thead>\n",
              "    <tr style=\"text-align: right;\">\n",
              "      <th></th>\n",
              "      <th>Open</th>\n",
              "      <th>High</th>\n",
              "      <th>Low</th>\n",
              "      <th>Close</th>\n",
              "      <th>Adj Close</th>\n",
              "      <th>Volume</th>\n",
              "    </tr>\n",
              "  </thead>\n",
              "  <tbody>\n",
              "    <tr>\n",
              "      <th>Open</th>\n",
              "      <td>1.000000</td>\n",
              "      <td>0.999718</td>\n",
              "      <td>0.999585</td>\n",
              "      <td>0.999440</td>\n",
              "      <td>0.999440</td>\n",
              "      <td>0.047862</td>\n",
              "    </tr>\n",
              "    <tr>\n",
              "      <th>High</th>\n",
              "      <td>0.999718</td>\n",
              "      <td>1.000000</td>\n",
              "      <td>0.999470</td>\n",
              "      <td>0.999740</td>\n",
              "      <td>0.999740</td>\n",
              "      <td>0.054342</td>\n",
              "    </tr>\n",
              "    <tr>\n",
              "      <th>Low</th>\n",
              "      <td>0.999585</td>\n",
              "      <td>0.999470</td>\n",
              "      <td>1.000000</td>\n",
              "      <td>0.999711</td>\n",
              "      <td>0.999711</td>\n",
              "      <td>0.037188</td>\n",
              "    </tr>\n",
              "    <tr>\n",
              "      <th>Close</th>\n",
              "      <td>0.999440</td>\n",
              "      <td>0.999740</td>\n",
              "      <td>0.999711</td>\n",
              "      <td>1.000000</td>\n",
              "      <td>1.000000</td>\n",
              "      <td>0.046175</td>\n",
              "    </tr>\n",
              "    <tr>\n",
              "      <th>Adj Close</th>\n",
              "      <td>0.999440</td>\n",
              "      <td>0.999740</td>\n",
              "      <td>0.999711</td>\n",
              "      <td>1.000000</td>\n",
              "      <td>1.000000</td>\n",
              "      <td>0.046175</td>\n",
              "    </tr>\n",
              "    <tr>\n",
              "      <th>Volume</th>\n",
              "      <td>0.047862</td>\n",
              "      <td>0.054342</td>\n",
              "      <td>0.037188</td>\n",
              "      <td>0.046175</td>\n",
              "      <td>0.046175</td>\n",
              "      <td>1.000000</td>\n",
              "    </tr>\n",
              "  </tbody>\n",
              "</table>\n",
              "</div>"
            ],
            "text/plain": [
              "               Open      High       Low     Close  Adj Close    Volume\n",
              "Open       1.000000  0.999718  0.999585  0.999440   0.999440  0.047862\n",
              "High       0.999718  1.000000  0.999470  0.999740   0.999740  0.054342\n",
              "Low        0.999585  0.999470  1.000000  0.999711   0.999711  0.037188\n",
              "Close      0.999440  0.999740  0.999711  1.000000   1.000000  0.046175\n",
              "Adj Close  0.999440  0.999740  0.999711  1.000000   1.000000  0.046175\n",
              "Volume     0.047862  0.054342  0.037188  0.046175   0.046175  1.000000"
            ]
          },
          "metadata": {
            "tags": []
          },
          "execution_count": 7
        }
      ]
    },
    {
      "cell_type": "code",
      "metadata": {
        "colab": {
          "base_uri": "https://localhost:8080/"
        },
        "id": "fiju8qz-pJfD",
        "outputId": "f3ff1849-564d-4bec-e9ea-0b5c97ba7808"
      },
      "source": [
        "data.columns"
      ],
      "execution_count": null,
      "outputs": [
        {
          "output_type": "execute_result",
          "data": {
            "text/plain": [
              "Index(['Date', 'Open', 'High', 'Low', 'Close', 'Adj Close', 'Volume'], dtype='object')"
            ]
          },
          "metadata": {
            "tags": []
          },
          "execution_count": 8
        }
      ]
    },
    {
      "cell_type": "markdown",
      "metadata": {
        "id": "ocA_jXpRKJCX"
      },
      "source": [
        "We will consider the high prices everyday and predict the prices in the future. Let us train a model that looks into the high prices of one stock for the past 60 days and predicts the next day high price. For this let us first create the dataset and split into train and test sets."
      ]
    },
    {
      "cell_type": "code",
      "metadata": {
        "colab": {
          "base_uri": "https://localhost:8080/"
        },
        "id": "xXHuZckiKIqI",
        "outputId": "1a908dce-2c01-40d3-a7d9-06d7bf421cf1"
      },
      "source": [
        "data_n=data['High']\n",
        "data_n[0]"
      ],
      "execution_count": null,
      "outputs": [
        {
          "output_type": "execute_result",
          "data": {
            "text/plain": [
              "2.43"
            ]
          },
          "metadata": {
            "tags": []
          },
          "execution_count": 9
        }
      ]
    },
    {
      "cell_type": "markdown",
      "metadata": {
        "id": "SkXo7FrGIqQs"
      },
      "source": [
        "We will now create the training data with high prices of 60 days per data point with target being the high price on 61st day."
      ]
    },
    {
      "cell_type": "code",
      "metadata": {
        "colab": {
          "base_uri": "https://localhost:8080/"
        },
        "id": "59N3a_CyGY81",
        "outputId": "e6c191d0-6197-4ccb-93cd-0f31abff80a6"
      },
      "source": [
        "X=[]\n",
        "Y=[]\n",
        "for i in range (0,len(data_n)-60):\n",
        "  X.append(data_n[i:i+60])\n",
        "  Y.append(data_n[i+60])\n",
        "X=np.array(X)\n",
        "Y=np.array(Y)\n",
        "\n",
        "X = np.reshape(X, (X.shape[0], X.shape[1], 1))\n",
        "X.shape"
      ],
      "execution_count": null,
      "outputs": [
        {
          "output_type": "execute_result",
          "data": {
            "text/plain": [
              "(2698, 60, 1)"
            ]
          },
          "metadata": {
            "tags": []
          },
          "execution_count": 10
        }
      ]
    },
    {
      "cell_type": "markdown",
      "metadata": {
        "id": "iYUE8QoJdZXL"
      },
      "source": [
        "Let us now split the dataset to train and test sets. This can be done using train_test_split function from sklearn. We have mentioned test_size to be 0.20, which splits the data into train and test sets with 80% and 20% of the data respectively. "
      ]
    },
    {
      "cell_type": "code",
      "metadata": {
        "id": "DTN2yOChdA4G"
      },
      "source": [
        "from sklearn.model_selection import train_test_split\n",
        "X_train, X_test, Y_train, Y_test = train_test_split(X, Y, test_size=0.20)"
      ],
      "execution_count": null,
      "outputs": []
    },
    {
      "cell_type": "markdown",
      "metadata": {
        "id": "jRtNX9_feL1A"
      },
      "source": [
        ""
      ]
    },
    {
      "cell_type": "code",
      "metadata": {
        "colab": {
          "base_uri": "https://localhost:8080/",
          "height": 1000
        },
        "id": "zlWeWt7seKBl",
        "outputId": "9d352d58-afe3-47a9-fac6-926431da22cf"
      },
      "source": [
        "model=Sequential()\n",
        "model.add(LSTM(120, activation='tanh', kernel_initializer='glorot_uniform', return_sequences=True))\n",
        "model.add(LSTM(120, activation='tanh', kernel_initializer='glorot_uniform', return_sequences=False)) \n",
        "# model.add(LSTM(120, activation='tanh', kernel_initializer='glorot_uniform', return_sequences=False))  \n",
        "model.add(Dense(1))\n",
        "model.compile(optimizer='adam',loss='mean_squared_error')\n",
        "\n",
        "\n",
        "history=model.fit(X_train, Y_train,batch_size=50,epochs=60, validation_data=(X_test, Y_test), shuffle=True)\n",
        "\n",
        "model.save('mnist_lenet.h5')\n",
        "plt.plot(history.history['loss'])\n",
        "plt.plot(history.history['val_loss'])\n",
        "plt.legend(['train', 'val'])\n",
        "plt.show()\n",
        "\n",
        "\n",
        "\n"
      ],
      "execution_count": null,
      "outputs": [
        {
          "output_type": "stream",
          "text": [
            "Epoch 1/60\n",
            "44/44 [==============================] - 35s 31ms/step - loss: 217.8563 - val_loss: 66.5447\n",
            "Epoch 2/60\n",
            "44/44 [==============================] - 0s 10ms/step - loss: 63.7678 - val_loss: 40.4279\n",
            "Epoch 3/60\n",
            "44/44 [==============================] - 0s 11ms/step - loss: 41.4065 - val_loss: 27.5302\n",
            "Epoch 4/60\n",
            "44/44 [==============================] - 0s 10ms/step - loss: 31.0194 - val_loss: 19.9648\n",
            "Epoch 5/60\n",
            "44/44 [==============================] - 0s 11ms/step - loss: 22.4994 - val_loss: 14.8043\n",
            "Epoch 6/60\n",
            "44/44 [==============================] - 0s 10ms/step - loss: 19.4210 - val_loss: 10.9853\n",
            "Epoch 7/60\n",
            "44/44 [==============================] - 0s 11ms/step - loss: 13.1675 - val_loss: 8.2463\n",
            "Epoch 8/60\n",
            "44/44 [==============================] - 0s 11ms/step - loss: 10.5831 - val_loss: 6.1407\n",
            "Epoch 9/60\n",
            "44/44 [==============================] - 0s 11ms/step - loss: 5.3409 - val_loss: 4.6870\n",
            "Epoch 10/60\n",
            "44/44 [==============================] - 0s 11ms/step - loss: 4.0009 - val_loss: 3.5205\n",
            "Epoch 11/60\n",
            "44/44 [==============================] - 0s 11ms/step - loss: 4.7582 - val_loss: 2.6115\n",
            "Epoch 12/60\n",
            "44/44 [==============================] - 0s 11ms/step - loss: 2.5608 - val_loss: 1.9960\n",
            "Epoch 13/60\n",
            "44/44 [==============================] - 0s 11ms/step - loss: 1.8354 - val_loss: 1.5391\n",
            "Epoch 14/60\n",
            "44/44 [==============================] - 0s 11ms/step - loss: 1.6222 - val_loss: 1.4824\n",
            "Epoch 15/60\n",
            "44/44 [==============================] - 0s 11ms/step - loss: 1.5619 - val_loss: 0.9886\n",
            "Epoch 16/60\n",
            "44/44 [==============================] - 0s 11ms/step - loss: 1.2874 - val_loss: 0.9645\n",
            "Epoch 17/60\n",
            "44/44 [==============================] - 0s 11ms/step - loss: 0.7449 - val_loss: 0.7208\n",
            "Epoch 18/60\n",
            "44/44 [==============================] - 0s 11ms/step - loss: 0.5781 - val_loss: 0.6227\n",
            "Epoch 19/60\n",
            "44/44 [==============================] - 0s 11ms/step - loss: 0.6727 - val_loss: 0.8962\n",
            "Epoch 20/60\n",
            "44/44 [==============================] - 0s 11ms/step - loss: 0.6387 - val_loss: 0.3966\n",
            "Epoch 21/60\n",
            "44/44 [==============================] - 0s 10ms/step - loss: 0.4737 - val_loss: 0.3423\n",
            "Epoch 22/60\n",
            "44/44 [==============================] - 0s 11ms/step - loss: 0.2757 - val_loss: 0.3175\n",
            "Epoch 23/60\n",
            "44/44 [==============================] - 0s 11ms/step - loss: 0.2662 - val_loss: 0.2636\n",
            "Epoch 24/60\n",
            "44/44 [==============================] - 0s 11ms/step - loss: 0.2985 - val_loss: 0.2357\n",
            "Epoch 25/60\n",
            "44/44 [==============================] - 0s 11ms/step - loss: 0.2501 - val_loss: 0.3751\n",
            "Epoch 26/60\n",
            "44/44 [==============================] - 0s 10ms/step - loss: 0.3402 - val_loss: 0.3066\n",
            "Epoch 27/60\n",
            "44/44 [==============================] - 0s 11ms/step - loss: 0.2067 - val_loss: 0.1868\n",
            "Epoch 28/60\n",
            "44/44 [==============================] - 0s 11ms/step - loss: 0.1921 - val_loss: 0.1567\n",
            "Epoch 29/60\n",
            "44/44 [==============================] - 0s 11ms/step - loss: 0.1865 - val_loss: 0.1377\n",
            "Epoch 30/60\n",
            "44/44 [==============================] - 0s 11ms/step - loss: 0.1440 - val_loss: 0.1063\n",
            "Epoch 31/60\n",
            "44/44 [==============================] - 0s 11ms/step - loss: 0.1267 - val_loss: 0.0948\n",
            "Epoch 32/60\n",
            "44/44 [==============================] - 0s 11ms/step - loss: 0.1360 - val_loss: 0.1149\n",
            "Epoch 33/60\n",
            "44/44 [==============================] - 0s 11ms/step - loss: 0.1091 - val_loss: 0.0836\n",
            "Epoch 34/60\n",
            "44/44 [==============================] - 0s 11ms/step - loss: 0.1057 - val_loss: 0.1131\n",
            "Epoch 35/60\n",
            "44/44 [==============================] - 0s 11ms/step - loss: 0.1169 - val_loss: 0.1443\n",
            "Epoch 36/60\n",
            "44/44 [==============================] - 0s 11ms/step - loss: 0.1299 - val_loss: 0.1726\n",
            "Epoch 37/60\n",
            "44/44 [==============================] - 0s 11ms/step - loss: 0.1248 - val_loss: 0.4353\n",
            "Epoch 38/60\n",
            "44/44 [==============================] - 0s 11ms/step - loss: 0.4014 - val_loss: 0.1394\n",
            "Epoch 39/60\n",
            "44/44 [==============================] - 0s 11ms/step - loss: 0.1337 - val_loss: 0.0899\n",
            "Epoch 40/60\n",
            "44/44 [==============================] - 0s 11ms/step - loss: 0.0942 - val_loss: 0.2004\n",
            "Epoch 41/60\n",
            "44/44 [==============================] - 0s 11ms/step - loss: 0.1343 - val_loss: 0.0812\n",
            "Epoch 42/60\n",
            "44/44 [==============================] - 0s 11ms/step - loss: 0.0932 - val_loss: 0.0888\n",
            "Epoch 43/60\n",
            "44/44 [==============================] - 1s 12ms/step - loss: 0.0760 - val_loss: 0.0514\n",
            "Epoch 44/60\n",
            "44/44 [==============================] - 0s 10ms/step - loss: 0.0673 - val_loss: 0.0495\n",
            "Epoch 45/60\n",
            "44/44 [==============================] - 0s 11ms/step - loss: 0.0498 - val_loss: 0.0579\n",
            "Epoch 46/60\n",
            "44/44 [==============================] - 0s 11ms/step - loss: 0.0668 - val_loss: 0.0707\n",
            "Epoch 47/60\n",
            "44/44 [==============================] - 0s 11ms/step - loss: 0.0662 - val_loss: 0.0692\n",
            "Epoch 48/60\n",
            "44/44 [==============================] - 0s 11ms/step - loss: 0.1637 - val_loss: 0.1622\n",
            "Epoch 49/60\n",
            "44/44 [==============================] - 0s 11ms/step - loss: 0.0804 - val_loss: 0.0601\n",
            "Epoch 50/60\n",
            "44/44 [==============================] - 0s 11ms/step - loss: 0.0549 - val_loss: 0.0504\n",
            "Epoch 51/60\n",
            "44/44 [==============================] - 0s 11ms/step - loss: 0.0538 - val_loss: 0.0521\n",
            "Epoch 52/60\n",
            "44/44 [==============================] - 0s 11ms/step - loss: 0.0782 - val_loss: 0.0408\n",
            "Epoch 53/60\n",
            "44/44 [==============================] - 0s 11ms/step - loss: 0.0305 - val_loss: 0.0409\n",
            "Epoch 54/60\n",
            "44/44 [==============================] - 0s 11ms/step - loss: 0.0764 - val_loss: 0.0467\n",
            "Epoch 55/60\n",
            "44/44 [==============================] - 0s 11ms/step - loss: 0.0372 - val_loss: 0.0271\n",
            "Epoch 56/60\n",
            "44/44 [==============================] - 0s 11ms/step - loss: 0.0357 - val_loss: 0.0404\n",
            "Epoch 57/60\n",
            "44/44 [==============================] - 0s 11ms/step - loss: 0.0334 - val_loss: 0.0210\n",
            "Epoch 58/60\n",
            "44/44 [==============================] - 0s 11ms/step - loss: 0.0308 - val_loss: 0.0357\n",
            "Epoch 59/60\n",
            "44/44 [==============================] - 0s 11ms/step - loss: 0.0309 - val_loss: 0.0155\n",
            "Epoch 60/60\n",
            "44/44 [==============================] - 0s 11ms/step - loss: 0.0177 - val_loss: 0.0310\n"
          ],
          "name": "stdout"
        },
        {
          "output_type": "display_data",
          "data": {
            "image/png": "[encoded data removed]",
            "text/plain": [
              "<Figure size 432x288 with 1 Axes>"
            ]
          },
          "metadata": {
            "tags": [],
            "needs_background": "light"
          }
        }
      ]
    },
    {
      "cell_type": "code",
      "metadata": {
        "colab": {
          "base_uri": "https://localhost:8080/",
          "height": 265
        },
        "id": "Jq3YJAQVrGXE",
        "outputId": "7083e29c-c00a-43e1-9fff-d83df6ce137e"
      },
      "source": [
        "labels=[i for i in range(len(Y_test))]\n",
        "predicted_prices=model.predict(X_test)\n",
        "plt.scatter(labels,predicted_prices,label='predicted')\n",
        "plt.scatter(labels,Y_test,label='actual')\n",
        "plt.show()"
      ],
      "execution_count": null,
      "outputs": [
        {
          "output_type": "display_data",
          "data": {
            "image/png": "[encoded data removed]",
            "text/plain": [
              "<Figure size 432x288 with 1 Axes>"
            ]
          },
          "metadata": {
            "tags": [],
            "needs_background": "light"
          }
        }
      ]
    }
  ]
}